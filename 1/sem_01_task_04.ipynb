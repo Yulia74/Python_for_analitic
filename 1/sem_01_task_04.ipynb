{
 "cells": [
  {
   "cell_type": "markdown",
   "metadata": {},
   "source": [
    "## Задание 4.\n",
    "### 4.1 Сгенерируйте случайные целые числа от 0 до 100 в количестве 5 штук с помощью модуля random\n",
    "* Зафиксируйте псевдогенерацию, чтобы сгенерированные значения всегда были одинаковые\n",
    "* Используйте list comprehensions"
   ]
  },
  {
   "attachments": {},
   "cell_type": "markdown",
   "metadata": {},
   "source": [
    "обычный код"
   ]
  },
  {
   "cell_type": "code",
   "execution_count": 1,
   "metadata": {},
   "outputs": [
    {
     "data": {
      "text/plain": [
       "[26, 72, 0, 63, 9]"
      ]
     },
     "execution_count": 1,
     "metadata": {},
     "output_type": "execute_result"
    }
   ],
   "source": [
    "import random\n",
    "list_1 = []\n",
    "for i in range(5):\n",
    "    list_1.append(random.randint(0, 101))\n",
    "list_1"
   ]
  },
  {
   "cell_type": "markdown",
   "metadata": {},
   "source": [
    "через функцию"
   ]
  },
  {
   "cell_type": "code",
   "execution_count": 2,
   "metadata": {},
   "outputs": [
    {
     "data": {
      "text/plain": [
       "[18, 58, 58, 98, 22]"
      ]
     },
     "execution_count": 2,
     "metadata": {},
     "output_type": "execute_result"
    }
   ],
   "source": [
    "random.seed(100)\n",
    "def get_list(a: int, b: int, n: int) -> list:\n",
    "    return([random.randint(a, b) for _ in range(n)])\n",
    "\n",
    "get_list(0, 100, 5)"
   ]
  },
  {
   "attachments": {},
   "cell_type": "markdown",
   "metadata": {},
   "source": [
    "код для Юпитера \n",
    "random.seed(5) функция начального числа используется для хранения случайного метода генерации одних и тех же случайных чисел при многократном выполнении кода на одной или разных машинах. Если ее вынесем из ячейки, то она не будет действовать"
   ]
  },
  {
   "cell_type": "code",
   "execution_count": 3,
   "metadata": {},
   "outputs": [
    {
     "data": {
      "text/plain": [
       "[79, 32, 94, 45, 88]"
      ]
     },
     "execution_count": 3,
     "metadata": {},
     "output_type": "execute_result"
    }
   ],
   "source": [
    "import random\n",
    "random.seed(5)\n",
    "data = [random.randint(0, 100) for _ in range(5)]\n",
    "data"
   ]
  },
  {
   "attachments": {},
   "cell_type": "markdown",
   "metadata": {},
   "source": [
    "### 4.2 Напишите генератор\n",
    "Генератор на вход принимает список с данными о клиенте (данные\n",
    "из пункта 4.1)\n",
    "Внутри генератора реализуйте обход по списку с данными\n",
    "На каждой итерации генератор будет возвращать кортеж из двух\n",
    "элементов:\n",
    "1. данные по клиенту (в зависимости от итерации, на 0 итерации\n",
    "вернется 0 элемент, на 1 итерации вернется 1 элемент и тд)\n",
    "2. целочисленное значение, которое показывает, сколько секунд\n",
    "прошло с предыдущей итерации\n",
    "Примечание: секунды, которые возвращаются должны показывать время не\n",
    "с начала запуска генератора, а именно то время, которое прошло с\n",
    "предыдущей итерации. А значит время на первой итерации должно\n",
    "равняться 0.\n",
    "Используйте функцию time из модуля time для подсчета времени.\n",
    "Чтобы проверить работу таймера, запустите проход по\n",
    "генератору в цикле с time.sleep(2)\n"
   ]
  },
  {
   "cell_type": "code",
   "execution_count": 4,
   "metadata": {},
   "outputs": [],
   "source": [
    "import time"
   ]
  },
  {
   "cell_type": "code",
   "execution_count": 5,
   "metadata": {},
   "outputs": [],
   "source": [
    "def func(nums: list) -> tuple:\n",
    "    last_time = None\n",
    "    for num in nums:\n",
    "        cur_time = time.time()\n",
    "        if last_time:\n",
    "            delta = cur_time - last_time\n",
    "        else:\n",
    "            delta = 0\n",
    "        last_time = time.time()\n",
    "        yield (num, int(delta))"
   ]
  },
  {
   "cell_type": "code",
   "execution_count": 6,
   "metadata": {},
   "outputs": [
    {
     "data": {
      "text/plain": [
       "<generator object func at 0x0000002F368B6340>"
      ]
     },
     "execution_count": 6,
     "metadata": {},
     "output_type": "execute_result"
    }
   ],
   "source": [
    "func(data)"
   ]
  },
  {
   "cell_type": "code",
   "execution_count": 7,
   "metadata": {},
   "outputs": [
    {
     "name": "stdout",
     "output_type": "stream",
     "text": [
      "(79, 0)\n"
     ]
    },
    {
     "name": "stdout",
     "output_type": "stream",
     "text": [
      "(32, 2)\n",
      "(94, 2)\n",
      "(45, 2)\n",
      "(88, 2)\n"
     ]
    }
   ],
   "source": [
    "for cur_items in func(data):\n",
    "    print(cur_items)\n",
    "    time.sleep(2)"
   ]
  },
  {
   "attachments": {},
   "cell_type": "markdown",
   "metadata": {},
   "source": [
    "немного измененное предыдущее решение"
   ]
  },
  {
   "cell_type": "code",
   "execution_count": 8,
   "metadata": {},
   "outputs": [
    {
     "name": "stdout",
     "output_type": "stream",
     "text": [
      "(79, 0)\n",
      "(32, 2)\n",
      "(94, 2)\n",
      "(45, 2)\n",
      "(88, 2)\n"
     ]
    }
   ],
   "source": [
    "def func(nums: list) -> tuple:\n",
    "    last_time = time.time()\n",
    "    for num in nums:\n",
    "        cur_time = time.time()\n",
    "        delta = cur_time - last_time\n",
    "        last_time = time.time()\n",
    "        yield (num, int(delta))\n",
    "\n",
    "func(data)\n",
    "    \n",
    "for cur_items in func(data):\n",
    "    print(cur_items)\n",
    "    time.sleep(2)"
   ]
  },
  {
   "attachments": {},
   "cell_type": "markdown",
   "metadata": {},
   "source": [
    "второй вариант (чужой)"
   ]
  },
  {
   "cell_type": "code",
   "execution_count": 9,
   "metadata": {},
   "outputs": [
    {
     "ename": "NameError",
     "evalue": "name 'a' is not defined",
     "output_type": "error",
     "traceback": [
      "\u001b[1;31m---------------------------------------------------------------------------\u001b[0m",
      "\u001b[1;31mNameError\u001b[0m                                 Traceback (most recent call last)",
      "Cell \u001b[1;32mIn[9], line 10\u001b[0m\n\u001b[0;32m      6\u001b[0m         \u001b[39myield\u001b[39;00m (data_list[i], time_iter\u001b[39m-\u001b[39mstart)\n\u001b[0;32m      7\u001b[0m         start \u001b[39m=\u001b[39m time_iter\n\u001b[1;32m---> 10\u001b[0m ranger \u001b[39m=\u001b[39m my_range(a)\n\u001b[0;32m     11\u001b[0m \u001b[39mfor\u001b[39;00m g \u001b[39min\u001b[39;00m ranger:\n\u001b[0;32m     12\u001b[0m     \u001b[39mprint\u001b[39m(g)\n",
      "\u001b[1;31mNameError\u001b[0m: name 'a' is not defined"
     ]
    }
   ],
   "source": [
    "from time import time, sleep\n",
    "def my_range(data_list: list):\n",
    "    start = time()\n",
    "    for i in range(len(data_list)):\n",
    "        time_iter = time()\n",
    "        yield (data_list[i], time_iter-start)\n",
    "        start = time_iter\n",
    "        \n",
    "        \n",
    "ranger = my_range(a)\n",
    "for g in ranger:\n",
    "    print(g)\n",
    "    sleep(2)"
   ]
  }
 ],
 "metadata": {
  "kernelspec": {
   "display_name": "Python 3 (ipykernel)",
   "language": "python",
   "name": "python3"
  },
  "language_info": {
   "codemirror_mode": {
    "name": "ipython",
    "version": 3
   },
   "file_extension": ".py",
   "mimetype": "text/x-python",
   "name": "python",
   "nbconvert_exporter": "python",
   "pygments_lexer": "ipython3",
   "version": "3.11.3"
  }
 },
 "nbformat": 4,
 "nbformat_minor": 2
}
