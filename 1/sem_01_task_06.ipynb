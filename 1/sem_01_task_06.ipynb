{
 "cells": [
  {
   "attachments": {},
   "cell_type": "markdown",
   "metadata": {},
   "source": [
    "## Задание 6.\n",
    "### Напишите функцию, которая может принимать любое количество трат пользователя и считать сумму и среднее.\n",
    "На вход поступают целочисленные значения в любом количестве\n",
    "На выходе словарь с ключами суммы трат и средней траты"
   ]
  },
  {
   "cell_type": "code",
   "execution_count": 1,
   "metadata": {},
   "outputs": [
    {
     "name": "stdout",
     "output_type": "stream",
     "text": [
      "(56, 10, 45, 66)\n"
     ]
    },
    {
     "data": {
      "text/plain": [
       "{'сумма': 177, 'среднее': 44.25}"
      ]
     },
     "execution_count": 1,
     "metadata": {},
     "output_type": "execute_result"
    }
   ],
   "source": [
    "def get_average(*args: int) -> int:\n",
    "    print(args)\n",
    "    count_args = len(args)\n",
    "    sum_args = sum(args)\n",
    "    average_args = sum_args / count_args\n",
    "   \n",
    "    return {'сумма': sum_args, 'среднее': average_args}\n",
    "\n",
    "get_average(56, 10, 45, 66)"
   ]
  }
 ],
 "metadata": {
  "kernelspec": {
   "display_name": "Python 3",
   "language": "python",
   "name": "python3"
  },
  "language_info": {
   "codemirror_mode": {
    "name": "ipython",
    "version": 3
   },
   "file_extension": ".py",
   "mimetype": "text/x-python",
   "name": "python",
   "nbconvert_exporter": "python",
   "pygments_lexer": "ipython3",
   "version": "3.11.3"
  },
  "orig_nbformat": 4
 },
 "nbformat": 4,
 "nbformat_minor": 2
}
