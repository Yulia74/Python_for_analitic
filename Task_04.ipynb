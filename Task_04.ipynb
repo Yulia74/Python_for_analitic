{
 "cells": [
  {
   "attachments": {},
   "cell_type": "markdown",
   "id": "2ba90241",
   "metadata": {},
   "source": [
    "## Домашнее задание 4\n",
    "\n",
    "Даны два списка: дата покупки и сумма покупки по датам"
   ]
  },
  {
   "cell_type": "code",
   "execution_count": 10,
   "id": "e1a5f714",
   "metadata": {},
   "outputs": [],
   "source": [
    "date = ['2021-09-14', '2021-12-15', '2021-09-08', '2021-12-05', '2021-10-09', '2021-09-30', '2021-12-22', '2021-11-29', '2021-12-24', '2021-11-26', '2021-10-27', '2021-12-18', '2021-11-09', '2021-11-23', '2021-09-27',\n",
    "'2021-10-02', '2021-12-27', '2021-09-20', '2021-12-13', '2021-11-01', '2021-11-09', '2021-12-06', '2021-12-08', '2021-10-09', '2021-10-31', '2021-09-30', '2021-11-09', '2021-12-13', '2021-10-26', '2021-12-09']\n"
   ]
  },
  {
   "cell_type": "code",
   "execution_count": 11,
   "id": "427b91ae",
   "metadata": {},
   "outputs": [],
   "source": [
    "cost = [1270, 8413, 9028, 3703, 5739, 4095, 295, 4944, 5723, 3701, 4471, 651, 7037, 4274, 6275, 4988, 6930, 2971, 6592, 2004, 2822, 519, 3406, 2732, 5015, 2008, 316, 6333, 5700, 2887]"
   ]
  },
  {
   "attachments": {},
   "cell_type": "markdown",
   "id": "a0e8d760",
   "metadata": {},
   "source": [
    "### 4.1 Найдите, какая выручка у компании в ноябре\n",
    "Используйте list comprehensions"
   ]
  },
  {
   "cell_type": "code",
   "execution_count": 12,
   "id": "92c9b2ba",
   "metadata": {},
   "outputs": [
    {
     "name": "stdout",
     "output_type": "stream",
     "text": [
      "[4944, 3701, 7037, 4274, 2004, 2822, 316]\n",
      "25098\n"
     ]
    }
   ],
   "source": [
    "november = [cost[i] for i in range(len(date)) if '-11-' in date[i]]\n",
    "print(november)\n",
    "\n",
    "print(sum(november))\n"
   ]
  },
  {
   "attachments": {},
   "cell_type": "markdown",
   "id": "277418b2",
   "metadata": {},
   "source": [
    "### 4.2 Найдите выручку компании в зависимости от месяца\n",
    "Для этого напишите функцию, которая на вход принимает список с датами и список с выручкой, а на выходе словарь, где ключи - это месяцы, а значения - это выручка. Используйте аннотирование типов."
   ]
  },
  {
   "cell_type": "code",
   "execution_count": 13,
   "id": "1f4d2319",
   "metadata": {},
   "outputs": [
    {
     "data": {
      "text/plain": [
       "{'09': 25647, '12': 45452, '10': 28645, '11': 25098}"
      ]
     },
     "execution_count": 13,
     "metadata": {},
     "output_type": "execute_result"
    }
   ],
   "source": [
    "def revenue_month(data1: list, data2: list) -> dict:\n",
    "    revenue = {}\n",
    "    for i in range(len(data1)):\n",
    "\n",
    "        if date[i].split('-')[1] in revenue.keys():\n",
    "            revenue[date[i].split('-')[1]] += cost[i]\n",
    "        else:\n",
    "            revenue[date[i].split('-')[1]] = cost[i]\n",
    "\n",
    "    return revenue\n",
    "\n",
    "\n",
    "revenue_month(date, cost)"
   ]
  }
 ],
 "metadata": {
  "kernelspec": {
   "display_name": "Python 3",
   "language": "python",
   "name": "python3"
  },
  "language_info": {
   "codemirror_mode": {
    "name": "ipython",
    "version": 3
   },
   "file_extension": ".py",
   "mimetype": "text/x-python",
   "name": "python",
   "nbconvert_exporter": "python",
   "pygments_lexer": "ipython3",
   "version": "3.11.3"
  }
 },
 "nbformat": 4,
 "nbformat_minor": 5
}
